{
  "cells": [
    {
      "cell_type": "markdown",
      "id": "bcae0200",
      "metadata": {
        "id": "bcae0200"
      },
      "source": [
        "Using the data contained in the two data files from the previous exercise, find out how the severity of the accident is related to the age of the vehicle."
      ]
    },
    {
      "cell_type": "code",
      "execution_count": 1,
      "id": "e977cb37",
      "metadata": {
        "colab": {
          "base_uri": "https://localhost:8080/"
        },
        "id": "e977cb37",
        "outputId": "53535b30-5891-4e71-c348-3ffc61801dc6"
      },
      "outputs": [
        {
          "output_type": "stream",
          "name": "stdout",
          "text": [
            "Object `?` not found.\n"
          ]
        }
      ],
      "source": [
        "# import Pandas and Numpy packages\n",
        "\n",
        "import pandas as pd\n",
        "import numpy as np\n",
        "\n",
        "\n",
        "import seaborn as sns\n",
        "\n",
        "sns.set_theme(palette=\"Set2\")"
      ]
    },
    {
      "cell_type": "code",
      "execution_count": null,
      "id": "50ef5c1a",
      "metadata": {
        "id": "50ef5c1a"
      },
      "outputs": [],
      "source": [
        "# load the data\n",
        "df1 = pd.read_csv(\"accidents.csv\")\n",
        "df2 = pd.read_csv(\"vehicles.csv\")"
      ]
    },
    {
      "cell_type": "code",
      "execution_count": null,
      "id": "6b3cd952",
      "metadata": {
        "id": "6b3cd952"
      },
      "outputs": [],
      "source": [
        "# check values in the Age_of_Vehicle of the vehicles dataframe\n",
        "df2[\"Age_of_Vehicle\"].unique()"
      ]
    },
    {
      "cell_type": "markdown",
      "id": "847b81d3",
      "metadata": {
        "id": "847b81d3"
      },
      "source": [
        "\"-1\" in the \"Age_of_Vehicle\" column suggests the age of the car is unknown. Let's replace it with the `np.NaN` symbol. This will make it easier for us to drop all rows with missing values."
      ]
    },
    {
      "cell_type": "code",
      "execution_count": null,
      "id": "60e2d065",
      "metadata": {
        "id": "60e2d065"
      },
      "outputs": [],
      "source": [
        "# replace \"-1\" with np.NaN\n",
        "df2.loc[:, \"Age_of_Vehicle\"] = ???"
      ]
    },
    {
      "cell_type": "code",
      "execution_count": null,
      "id": "863f6b99",
      "metadata": {
        "id": "863f6b99"
      },
      "outputs": [],
      "source": [
        "# drop rows with missing values\n",
        "df2.dropna(inplace=True)"
      ]
    },
    {
      "cell_type": "markdown",
      "id": "98a3b4e8",
      "metadata": {
        "id": "98a3b4e8"
      },
      "source": [
        "Choose appropriate options of `merge` to combine the accidents and the vehicle dataframes. Check that the merge was successful."
      ]
    },
    {
      "cell_type": "code",
      "execution_count": null,
      "id": "8b0c0572",
      "metadata": {
        "id": "8b0c0572"
      },
      "outputs": [],
      "source": []
    },
    {
      "cell_type": "markdown",
      "id": "d8b71a7d",
      "metadata": {
        "id": "d8b71a7d"
      },
      "source": [
        "Determine the relationship between the severity of the accident and the age of the vehicle."
      ]
    },
    {
      "cell_type": "code",
      "execution_count": null,
      "id": "566867dc",
      "metadata": {
        "id": "566867dc"
      },
      "outputs": [],
      "source": []
    },
    {
      "cell_type": "code",
      "execution_count": null,
      "id": "42741c75",
      "metadata": {
        "id": "42741c75"
      },
      "outputs": [],
      "source": []
    },
    {
      "cell_type": "markdown",
      "id": "104c031f",
      "metadata": {
        "id": "104c031f"
      },
      "source": [
        "# Citing this notebook\n",
        "\n",
        "If you use this notebook in your work, please cite it as follows:\n",
        "    \n",
        "Pekar, V. (2022). Big Data for Decision Making. Lecture examples and exercises. (Version 1.0.0). URL: https://github.com/vpekar/bd4dm"
      ]
    },
    {
      "cell_type": "code",
      "execution_count": null,
      "id": "80cb1268",
      "metadata": {
        "id": "80cb1268"
      },
      "outputs": [],
      "source": []
    }
  ],
  "metadata": {
    "kernelspec": {
      "display_name": "Python 3 (ipykernel)",
      "language": "python",
      "name": "python3"
    },
    "language_info": {
      "codemirror_mode": {
        "name": "ipython",
        "version": 3
      },
      "file_extension": ".py",
      "mimetype": "text/x-python",
      "name": "python",
      "nbconvert_exporter": "python",
      "pygments_lexer": "ipython3",
      "version": "3.9.18"
    },
    "toc": {
      "base_numbering": 1,
      "nav_menu": {},
      "number_sections": true,
      "sideBar": true,
      "skip_h1_title": false,
      "title_cell": "Table of Contents",
      "title_sidebar": "Contents",
      "toc_cell": false,
      "toc_position": {},
      "toc_section_display": true,
      "toc_window_display": false
    },
    "colab": {
      "provenance": []
    }
  },
  "nbformat": 4,
  "nbformat_minor": 5
}